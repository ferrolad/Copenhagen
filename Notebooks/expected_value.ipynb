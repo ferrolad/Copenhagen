{
 "cells": [
  {
   "cell_type": "code",
   "execution_count": 10,
   "id": "8a74321e",
   "metadata": {},
   "outputs": [
    {
     "data": {
      "text/html": [
       "1"
      ],
      "text/latex": [
       "1"
      ],
      "text/markdown": [
       "1"
      ],
      "text/plain": [
       "[1] 1"
      ]
     },
     "metadata": {},
     "output_type": "display_data"
    }
   ],
   "source": [
    "# expected value\n",
    "# rolling a die\n",
    "sample(x = 1:6, size = 1, replace = TRUE)"
   ]
  },
  {
   "cell_type": "code",
   "execution_count": 11,
   "id": "885a4663",
   "metadata": {},
   "outputs": [
    {
     "data": {
      "text/html": [
       "<style>\n",
       ".list-inline {list-style: none; margin:0; padding: 0}\n",
       ".list-inline>li {display: inline-block}\n",
       ".list-inline>li:not(:last-child)::after {content: \"\\00b7\"; padding: 0 .5ex}\n",
       "</style>\n",
       "<ol class=list-inline><li>6</li><li>2</li><li>3</li><li>5</li><li>4</li><li>1</li><li>2</li><li>6</li><li>6</li><li>5</li><li>4</li><li>5</li><li>4</li><li>4</li><li>1</li><li>4</li><li>4</li><li>2</li><li>1</li><li>1</li><li>1</li><li>2</li><li>2</li><li>1</li><li>4</li><li>1</li><li>3</li><li>4</li><li>5</li><li>5</li><li>3</li><li>6</li><li>3</li><li>5</li><li>4</li><li>6</li><li>4</li><li>5</li><li>3</li><li>6</li><li>2</li><li>4</li><li>4</li><li>6</li><li>2</li><li>4</li><li>1</li><li>4</li><li>6</li><li>5</li><li>3</li><li>4</li><li>4</li><li>6</li><li>2</li><li>1</li><li>3</li><li>2</li><li>5</li><li>6</li><li>5</li><li>6</li><li>4</li><li>5</li><li>6</li><li>1</li><li>5</li><li>4</li><li>1</li><li>4</li><li>2</li><li>5</li><li>4</li><li>6</li><li>2</li><li>6</li><li>4</li><li>4</li><li>4</li><li>5</li><li>1</li><li>4</li><li>3</li><li>2</li><li>5</li><li>1</li><li>6</li><li>4</li><li>1</li><li>3</li><li>5</li><li>5</li><li>6</li><li>6</li><li>6</li><li>2</li><li>1</li><li>4</li><li>4</li><li>4</li></ol>\n"
      ],
      "text/latex": [
       "\\begin{enumerate*}\n",
       "\\item 6\n",
       "\\item 2\n",
       "\\item 3\n",
       "\\item 5\n",
       "\\item 4\n",
       "\\item 1\n",
       "\\item 2\n",
       "\\item 6\n",
       "\\item 6\n",
       "\\item 5\n",
       "\\item 4\n",
       "\\item 5\n",
       "\\item 4\n",
       "\\item 4\n",
       "\\item 1\n",
       "\\item 4\n",
       "\\item 4\n",
       "\\item 2\n",
       "\\item 1\n",
       "\\item 1\n",
       "\\item 1\n",
       "\\item 2\n",
       "\\item 2\n",
       "\\item 1\n",
       "\\item 4\n",
       "\\item 1\n",
       "\\item 3\n",
       "\\item 4\n",
       "\\item 5\n",
       "\\item 5\n",
       "\\item 3\n",
       "\\item 6\n",
       "\\item 3\n",
       "\\item 5\n",
       "\\item 4\n",
       "\\item 6\n",
       "\\item 4\n",
       "\\item 5\n",
       "\\item 3\n",
       "\\item 6\n",
       "\\item 2\n",
       "\\item 4\n",
       "\\item 4\n",
       "\\item 6\n",
       "\\item 2\n",
       "\\item 4\n",
       "\\item 1\n",
       "\\item 4\n",
       "\\item 6\n",
       "\\item 5\n",
       "\\item 3\n",
       "\\item 4\n",
       "\\item 4\n",
       "\\item 6\n",
       "\\item 2\n",
       "\\item 1\n",
       "\\item 3\n",
       "\\item 2\n",
       "\\item 5\n",
       "\\item 6\n",
       "\\item 5\n",
       "\\item 6\n",
       "\\item 4\n",
       "\\item 5\n",
       "\\item 6\n",
       "\\item 1\n",
       "\\item 5\n",
       "\\item 4\n",
       "\\item 1\n",
       "\\item 4\n",
       "\\item 2\n",
       "\\item 5\n",
       "\\item 4\n",
       "\\item 6\n",
       "\\item 2\n",
       "\\item 6\n",
       "\\item 4\n",
       "\\item 4\n",
       "\\item 4\n",
       "\\item 5\n",
       "\\item 1\n",
       "\\item 4\n",
       "\\item 3\n",
       "\\item 2\n",
       "\\item 5\n",
       "\\item 1\n",
       "\\item 6\n",
       "\\item 4\n",
       "\\item 1\n",
       "\\item 3\n",
       "\\item 5\n",
       "\\item 5\n",
       "\\item 6\n",
       "\\item 6\n",
       "\\item 6\n",
       "\\item 2\n",
       "\\item 1\n",
       "\\item 4\n",
       "\\item 4\n",
       "\\item 4\n",
       "\\end{enumerate*}\n"
      ],
      "text/markdown": [
       "1. 6\n",
       "2. 2\n",
       "3. 3\n",
       "4. 5\n",
       "5. 4\n",
       "6. 1\n",
       "7. 2\n",
       "8. 6\n",
       "9. 6\n",
       "10. 5\n",
       "11. 4\n",
       "12. 5\n",
       "13. 4\n",
       "14. 4\n",
       "15. 1\n",
       "16. 4\n",
       "17. 4\n",
       "18. 2\n",
       "19. 1\n",
       "20. 1\n",
       "21. 1\n",
       "22. 2\n",
       "23. 2\n",
       "24. 1\n",
       "25. 4\n",
       "26. 1\n",
       "27. 3\n",
       "28. 4\n",
       "29. 5\n",
       "30. 5\n",
       "31. 3\n",
       "32. 6\n",
       "33. 3\n",
       "34. 5\n",
       "35. 4\n",
       "36. 6\n",
       "37. 4\n",
       "38. 5\n",
       "39. 3\n",
       "40. 6\n",
       "41. 2\n",
       "42. 4\n",
       "43. 4\n",
       "44. 6\n",
       "45. 2\n",
       "46. 4\n",
       "47. 1\n",
       "48. 4\n",
       "49. 6\n",
       "50. 5\n",
       "51. 3\n",
       "52. 4\n",
       "53. 4\n",
       "54. 6\n",
       "55. 2\n",
       "56. 1\n",
       "57. 3\n",
       "58. 2\n",
       "59. 5\n",
       "60. 6\n",
       "61. 5\n",
       "62. 6\n",
       "63. 4\n",
       "64. 5\n",
       "65. 6\n",
       "66. 1\n",
       "67. 5\n",
       "68. 4\n",
       "69. 1\n",
       "70. 4\n",
       "71. 2\n",
       "72. 5\n",
       "73. 4\n",
       "74. 6\n",
       "75. 2\n",
       "76. 6\n",
       "77. 4\n",
       "78. 4\n",
       "79. 4\n",
       "80. 5\n",
       "81. 1\n",
       "82. 4\n",
       "83. 3\n",
       "84. 2\n",
       "85. 5\n",
       "86. 1\n",
       "87. 6\n",
       "88. 4\n",
       "89. 1\n",
       "90. 3\n",
       "91. 5\n",
       "92. 5\n",
       "93. 6\n",
       "94. 6\n",
       "95. 6\n",
       "96. 2\n",
       "97. 1\n",
       "98. 4\n",
       "99. 4\n",
       "100. 4\n",
       "\n",
       "\n"
      ],
      "text/plain": [
       "  [1] 6 2 3 5 4 1 2 6 6 5 4 5 4 4 1 4 4 2 1 1 1 2 2 1 4 1 3 4 5 5 3 6 3 5 4 6 4\n",
       " [38] 5 3 6 2 4 4 6 2 4 1 4 6 5 3 4 4 6 2 1 3 2 5 6 5 6 4 5 6 1 5 4 1 4 2 5 4 6\n",
       " [75] 2 6 4 4 4 5 1 4 3 2 5 1 6 4 1 3 5 5 6 6 6 2 1 4 4 4"
      ]
     },
     "metadata": {},
     "output_type": "display_data"
    }
   ],
   "source": [
    "# many times\n",
    "sample(x = 1:6, size = 100, replace = TRUE)"
   ]
  },
  {
   "cell_type": "code",
   "execution_count": 12,
   "id": "652573b2",
   "metadata": {},
   "outputs": [
    {
     "data": {
      "text/html": [
       "3.517"
      ],
      "text/latex": [
       "3.517"
      ],
      "text/markdown": [
       "3.517"
      ],
      "text/plain": [
       "[1] 3.517"
      ]
     },
     "metadata": {},
     "output_type": "display_data"
    }
   ],
   "source": [
    "# expected value\n",
    "mean(sample(x = 1:6, size = 10000, replace = TRUE))"
   ]
  },
  {
   "cell_type": "code",
   "execution_count": null,
   "id": "a2da3854",
   "metadata": {},
   "outputs": [],
   "source": [
    "# expected value\n",
    "# tossing a coin\n",
    "mean(sample(x = 0:1, size = 10000, replace = TRUE))"
   ]
  },
  {
   "cell_type": "code",
   "execution_count": null,
   "id": "bfddb981",
   "metadata": {},
   "outputs": [],
   "source": [
    "# expected value -analytical solution\n",
    "(0 * 0.5) + (1 * 0.5)"
   ]
  },
  {
   "cell_type": "code",
   "execution_count": 18,
   "id": "345a4117",
   "metadata": {},
   "outputs": [
    {
     "data": {
      "text/html": [
       "0.54"
      ],
      "text/latex": [
       "0.54"
      ],
      "text/markdown": [
       "0.54"
      ],
      "text/plain": [
       "[1] 0.54"
      ]
     },
     "metadata": {},
     "output_type": "display_data"
    }
   ],
   "source": [
    "# expected value - diploid calling\n",
    "# high depth 100X\n",
    "mean(sample(x = 0:1, size = 100, replace = TRUE))"
   ]
  },
  {
   "cell_type": "code",
   "execution_count": 30,
   "id": "89653108",
   "metadata": {},
   "outputs": [
    {
     "data": {
      "text/html": [
       "0.7"
      ],
      "text/latex": [
       "0.7"
      ],
      "text/markdown": [
       "0.7"
      ],
      "text/plain": [
       "[1] 0.7"
      ]
     },
     "metadata": {},
     "output_type": "display_data"
    }
   ],
   "source": [
    "# medium depth 10X\n",
    "mean(sample(x = 0:1, size = 10, replace = TRUE))"
   ]
  },
  {
   "cell_type": "code",
   "execution_count": 40,
   "id": "638fdf1b",
   "metadata": {},
   "outputs": [
    {
     "data": {
      "text/html": [
       "0"
      ],
      "text/latex": [
       "0"
      ],
      "text/markdown": [
       "0"
      ],
      "text/plain": [
       "[1] 0"
      ]
     },
     "metadata": {},
     "output_type": "display_data"
    }
   ],
   "source": [
    "# low depth 4X\n",
    "mean(sample(x = 0:1, size = 4, replace = TRUE))"
   ]
  },
  {
   "cell_type": "code",
   "execution_count": null,
   "id": "d346bc5b",
   "metadata": {},
   "outputs": [],
   "source": [
    "# any other factors affecting our calls?"
   ]
  }
 ],
 "metadata": {
  "kernelspec": {
   "display_name": "R",
   "language": "R",
   "name": "ir"
  },
  "language_info": {
   "codemirror_mode": "r",
   "file_extension": ".r",
   "mimetype": "text/x-r-source",
   "name": "R",
   "pygments_lexer": "r",
   "version": "3.6.3"
  }
 },
 "nbformat": 4,
 "nbformat_minor": 5
}
