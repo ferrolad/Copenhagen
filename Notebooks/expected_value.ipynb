{
 "cells": [
  {
   "cell_type": "code",
   "execution_count": null,
   "id": "8a74321e",
   "metadata": {},
   "outputs": [],
   "source": [
    "# expected value\n",
    "# rolling a die\n",
    "sample(x = 1:6, size = 1, replace = TRUE)"
   ]
  },
  {
   "cell_type": "code",
   "execution_count": null,
   "id": "885a4663",
   "metadata": {},
   "outputs": [],
   "source": [
    "# many times\n",
    "sample(x = 1:6, size = 100, replace = TRUE)"
   ]
  },
  {
   "cell_type": "code",
   "execution_count": null,
   "id": "652573b2",
   "metadata": {},
   "outputs": [],
   "source": [
    "# expected value\n",
    "mean(sample(x = 1:6, size = 10000, replace = TRUE))"
   ]
  },
  {
   "cell_type": "code",
   "execution_count": null,
   "id": "a2da3854",
   "metadata": {},
   "outputs": [],
   "source": [
    "# expected value\n",
    "# tossing a coin\n",
    "mean(sample(x = 0:1, size = 10000, replace = TRUE))"
   ]
  },
  {
   "cell_type": "code",
   "execution_count": null,
   "id": "bfddb981",
   "metadata": {},
   "outputs": [],
   "source": [
    "# expected value -analytical solution\n",
    "(0 * 0.5) + (1 * 0.5)"
   ]
  },
  {
   "cell_type": "code",
   "execution_count": null,
   "id": "345a4117",
   "metadata": {},
   "outputs": [],
   "source": [
    "# expected value - diploid calling\n",
    "# high depth 100X\n",
    "mean(sample(x = 0:1, size = 100, replace = TRUE))"
   ]
  },
  {
   "cell_type": "code",
   "execution_count": null,
   "id": "89653108",
   "metadata": {},
   "outputs": [],
   "source": [
    "# medium depth 10X\n",
    "mean(sample(x = 0:1, size = 10, replace = TRUE))"
   ]
  },
  {
   "cell_type": "code",
   "execution_count": null,
   "id": "638fdf1b",
   "metadata": {},
   "outputs": [],
   "source": [
    "# low depth $X\n",
    "mean(sample(x = 0:1, size = 4, replace = TRUE))"
   ]
  },
  {
   "cell_type": "code",
   "execution_count": null,
   "id": "d346bc5b",
   "metadata": {},
   "outputs": [],
   "source": [
    "# any other factors affecting our calls?"
   ]
  }
 ],
 "metadata": {
  "kernelspec": {
   "display_name": "R",
   "language": "R",
   "name": "ir"
  },
  "language_info": {
   "codemirror_mode": "r",
   "file_extension": ".r",
   "mimetype": "text/x-r-source",
   "name": "R",
   "pygments_lexer": "r",
   "version": "3.6.3"
  }
 },
 "nbformat": 4,
 "nbformat_minor": 5
}
