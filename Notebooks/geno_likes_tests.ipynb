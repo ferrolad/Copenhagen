{
 "cells": [
  {
   "cell_type": "code",
   "execution_count": 1,
   "id": "3823c5ac",
   "metadata": {},
   "outputs": [],
   "source": [
    "# load ngsJulia\n",
    "include(\"/home/matteo/Software/ngsJulia/templates.jl\");\n",
    "include(\"/home/matteo/Software/ngsJulia/functions.jl\");"
   ]
  },
  {
   "cell_type": "code",
   "execution_count": 2,
   "id": "225fc6e1",
   "metadata": {},
   "outputs": [
    {
     "data": {
      "text/plain": [
       "Reads(\"AAAAG\", \"55555\")"
      ]
     },
     "execution_count": 2,
     "metadata": {},
     "output_type": "execute_result"
    }
   ],
   "source": [
    "mySite=Site(\"chrom12\", 835132, 'A')\n",
    "myReads=Reads(\"AAAAG\",\"55555\") # 5 reads and associated base qualities in Phred scores"
   ]
  },
  {
   "cell_type": "code",
   "execution_count": 3,
   "id": "398e0360",
   "metadata": {},
   "outputs": [
    {
     "data": {
      "text/plain": [
       "4-element Vector{Float64}:\n",
       "  -5.743983818070206\n",
       " -28.518912373281005\n",
       " -22.825180234478307\n",
       " -28.518912373281005"
      ]
     },
     "execution_count": 3,
     "metadata": {},
     "output_type": "execute_result"
    }
   ],
   "source": [
    "using Combinatorics\n",
    "\n",
    "nucleoLikes = [calcGenoLike(myReads, [i], 1) for i=1:4]"
   ]
  },
  {
   "cell_type": "code",
   "execution_count": 4,
   "id": "e6dccea4",
   "metadata": {},
   "outputs": [
    {
     "name": "stdout",
     "output_type": "stream",
     "text": [
      "Major allele is A and minor allele is G\n"
     ]
    }
   ],
   "source": [
    "(major, minor, minor2, minor3) = sortperm(nucleoLikes, rev=true);\n",
    "println(\"Major allele is \", ALLELES[major], \" and minor allele is \", ALLELES[minor])"
   ]
  },
  {
   "cell_type": "code",
   "execution_count": 8,
   "id": "5f512fb5",
   "metadata": {},
   "outputs": [
    {
     "data": {
      "text/plain": [
       "3-element Vector{Float64}:\n",
       "  -6.665017855267824\n",
       "  -3.4951494314355833\n",
       " -22.81911891589121"
      ]
     },
     "execution_count": 8,
     "metadata": {},
     "output_type": "execute_result"
    }
   ],
   "source": [
    "# diploid genotype likelihoods\n",
    "genoLikes = calcGenoLike(myReads, [major, minor], 2)"
   ]
  },
  {
   "cell_type": "code",
   "execution_count": 9,
   "id": "e4bf4047",
   "metadata": {},
   "outputs": [
    {
     "data": {
      "text/plain": [
       "2"
      ]
     },
     "execution_count": 9,
     "metadata": {},
     "output_type": "execute_result"
    }
   ],
   "source": [
    "# genotype calling\n",
    "findmax(genoLikes)[2] # (major, major, minor), AG"
   ]
  },
  {
   "cell_type": "code",
   "execution_count": 10,
   "id": "bd50c080",
   "metadata": {},
   "outputs": [
    {
     "data": {
      "text/plain": [
       "1-element Vector{Float64}:\n",
       " 3.169868423832241"
      ]
     },
     "execution_count": 10,
     "metadata": {},
     "output_type": "execute_result"
    }
   ],
   "source": [
    "# genotype call test\n",
    "diff(genoLikes[sortperm(genoLikes, rev=true)[[2,1]]])"
   ]
  },
  {
   "cell_type": "code",
   "execution_count": 16,
   "id": "93164cb2",
   "metadata": {},
   "outputs": [
    {
     "data": {
      "text/plain": [
       "3-element Vector{Float64}:\n",
       "  -6.665017855267824\n",
       "  -3.4951494314355833\n",
       " -22.81911891589121"
      ]
     },
     "execution_count": 16,
     "metadata": {},
     "output_type": "execute_result"
    }
   ],
   "source": [
    "# more or less data, better or worse quality\n",
    "myReads=Reads(\"AAAAG\",\"55559\")\n",
    "calcGenoLike(myReads, [major, minor], 2)"
   ]
  },
  {
   "cell_type": "code",
   "execution_count": 17,
   "id": "90290716",
   "metadata": {},
   "outputs": [
    {
     "data": {
      "text/plain": [
       "3-element Vector{Float64}:\n",
       "  -4.612791943280187\n",
       "  -4.913471439582084\n",
       " -34.25482842196029"
      ]
     },
     "execution_count": 17,
     "metadata": {},
     "output_type": "execute_result"
    }
   ],
   "source": [
    "# more or less data, better or worse quality\n",
    "myReads=Reads(\"AAAAAAG\",\"5555550\")\n",
    "calcGenoLike(myReads, [major, minor], 2)"
   ]
  }
 ],
 "metadata": {
  "kernelspec": {
   "display_name": "Julia 1.6.6",
   "language": "julia",
   "name": "julia-1.6"
  },
  "language_info": {
   "file_extension": ".jl",
   "mimetype": "application/julia",
   "name": "julia",
   "version": "1.6.6"
  }
 },
 "nbformat": 4,
 "nbformat_minor": 5
}
