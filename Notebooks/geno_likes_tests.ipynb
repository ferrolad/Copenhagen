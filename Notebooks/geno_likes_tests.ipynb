{
 "cells": [
  {
   "cell_type": "code",
   "execution_count": null,
   "id": "3823c5ac",
   "metadata": {},
   "outputs": [],
   "source": [
    "# load ngsJulia\n",
    "include(\"/home/matteo/Software/ngsJulia/templates.jl\");\n",
    "include(\"/home/matteo/Software/ngsJulia/functions.jl\");"
   ]
  },
  {
   "cell_type": "code",
   "execution_count": null,
   "id": "225fc6e1",
   "metadata": {},
   "outputs": [],
   "source": [
    "mySite=Site(\"chrom12\", 835132, 'A')\n",
    "myReads=Reads(\"AAAAG\",\"55555\") # 5 reads and associated base qualities in Phred scores"
   ]
  },
  {
   "cell_type": "code",
   "execution_count": null,
   "id": "398e0360",
   "metadata": {},
   "outputs": [],
   "source": [
    "using Combinatorics\n",
    "\n",
    "nucleoLikes = [calcGenoLike(myReads, [i], 1) for i=1:4]"
   ]
  },
  {
   "cell_type": "code",
   "execution_count": null,
   "id": "e6dccea4",
   "metadata": {},
   "outputs": [],
   "source": [
    "(major, minor, minor2, minor3) = sortperm(nucleoLikes, rev=true);\n",
    "println(\"Major allele is \", ALLELES[major], \" and minor allele is \", ALLELES[minor])"
   ]
  },
  {
   "cell_type": "code",
   "execution_count": null,
   "id": "5f512fb5",
   "metadata": {},
   "outputs": [],
   "source": [
    "# diploid genotype likelihoods\n",
    "genoLikes = calcGenoLike(myReads, [major, minor], 2)"
   ]
  },
  {
   "cell_type": "code",
   "execution_count": null,
   "id": "e4bf4047",
   "metadata": {},
   "outputs": [],
   "source": [
    "# genotype calling\n",
    "findmax(genoLikes)[2] # (major, major, minor), AG"
   ]
  },
  {
   "cell_type": "code",
   "execution_count": null,
   "id": "bd50c080",
   "metadata": {},
   "outputs": [],
   "source": [
    "# genotype call test\n",
    "diff(genoLikes[sortperm(genoLikes, rev=true)[[2,1]]])"
   ]
  },
  {
   "cell_type": "code",
   "execution_count": null,
   "id": "93164cb2",
   "metadata": {},
   "outputs": [],
   "source": [
    "# more or less data, better or worse quality\n",
    "myReads=Reads(\"AAAAG\",\"55559\")\n",
    "calcGenoLike(myReads, [major, minor], 2)"
   ]
  },
  {
   "cell_type": "code",
   "execution_count": null,
   "id": "90290716",
   "metadata": {},
   "outputs": [],
   "source": [
    "# more or less data, better or worse quality\n",
    "myReads=Reads(\"AAAAG\",\"55550\")\n",
    "calcGenoLike(myReads, [major, minor], 2)"
   ]
  }
 ],
 "metadata": {
  "kernelspec": {
   "display_name": "Julia 1.6.6",
   "language": "julia",
   "name": "julia-1.6"
  },
  "language_info": {
   "file_extension": ".jl",
   "mimetype": "application/julia",
   "name": "julia",
   "version": "1.6.6"
  }
 },
 "nbformat": 4,
 "nbformat_minor": 5
}
